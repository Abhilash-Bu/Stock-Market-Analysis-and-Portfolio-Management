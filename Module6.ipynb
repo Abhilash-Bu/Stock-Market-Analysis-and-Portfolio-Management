{
 "cells": [
  {
   "cell_type": "code",
   "execution_count": 110,
   "metadata": {},
   "outputs": [],
   "source": [
    "import pandas as pd\n",
    "import math\n",
    "import matplotlib.pyplot as plt\n",
    "%matplotlib inline \n",
    "#to have the plot beneath the cell only for jupter notebook\n",
    "plt.rcParams['figure.figsize'] = [15, 7] #increase the size of inline plots in jupter notebook"
   ]
  },
  {
   "cell_type": "code",
   "execution_count": 2,
   "metadata": {},
   "outputs": [],
   "source": [
    "df=pd.read_csv(r'C:\\Users\\Janardhan\\Desktop\\clustered.csv')"
   ]
  },
  {
   "cell_type": "code",
   "execution_count": 3,
   "metadata": {},
   "outputs": [
    {
     "data": {
      "text/html": [
       "<div>\n",
       "<style scoped>\n",
       "    .dataframe tbody tr th:only-of-type {\n",
       "        vertical-align: middle;\n",
       "    }\n",
       "\n",
       "    .dataframe tbody tr th {\n",
       "        vertical-align: top;\n",
       "    }\n",
       "\n",
       "    .dataframe thead th {\n",
       "        text-align: right;\n",
       "    }\n",
       "</style>\n",
       "<table border=\"1\" class=\"dataframe\">\n",
       "  <thead>\n",
       "    <tr style=\"text-align: right;\">\n",
       "      <th></th>\n",
       "      <th>CIPLA</th>\n",
       "      <th>GAIL</th>\n",
       "      <th>HDFC</th>\n",
       "      <th>INFY</th>\n",
       "      <th>ITC</th>\n",
       "      <th>M&amp;M</th>\n",
       "      <th>MARUTI</th>\n",
       "      <th>RELIANCE</th>\n",
       "      <th>TCS</th>\n",
       "      <th>TITAN</th>\n",
       "      <th>...</th>\n",
       "      <th>SUZLON</th>\n",
       "      <th>RAYMOND</th>\n",
       "      <th>PVR</th>\n",
       "      <th>ASHOKA</th>\n",
       "      <th>BAJAJELEC</th>\n",
       "      <th>VENKEYS</th>\n",
       "      <th>CENTURYPLY</th>\n",
       "      <th>BOMDYEING</th>\n",
       "      <th>LEMONTREE</th>\n",
       "      <th>SONATSOFTW</th>\n",
       "    </tr>\n",
       "  </thead>\n",
       "  <tbody>\n",
       "    <tr>\n",
       "      <th>0</th>\n",
       "      <td>569.00</td>\n",
       "      <td>414.00</td>\n",
       "      <td>1559.50</td>\n",
       "      <td>951.55</td>\n",
       "      <td>277.95</td>\n",
       "      <td>1375.65</td>\n",
       "      <td>6823.90</td>\n",
       "      <td>1344.10</td>\n",
       "      <td>2365.10</td>\n",
       "      <td>483.65</td>\n",
       "      <td>...</td>\n",
       "      <td>19.6</td>\n",
       "      <td>772.80</td>\n",
       "      <td>1524.95</td>\n",
       "      <td>216.05</td>\n",
       "      <td>341.15</td>\n",
       "      <td>1169.70</td>\n",
       "      <td>266.65</td>\n",
       "      <td>82.20</td>\n",
       "      <td>71.65</td>\n",
       "      <td>162.65</td>\n",
       "    </tr>\n",
       "    <tr>\n",
       "      <th>1</th>\n",
       "      <td>565.60</td>\n",
       "      <td>411.40</td>\n",
       "      <td>1566.55</td>\n",
       "      <td>955.00</td>\n",
       "      <td>283.45</td>\n",
       "      <td>1366.35</td>\n",
       "      <td>6953.95</td>\n",
       "      <td>1356.30</td>\n",
       "      <td>2429.15</td>\n",
       "      <td>488.30</td>\n",
       "      <td>...</td>\n",
       "      <td>19.7</td>\n",
       "      <td>785.00</td>\n",
       "      <td>1539.00</td>\n",
       "      <td>214.90</td>\n",
       "      <td>347.00</td>\n",
       "      <td>1177.00</td>\n",
       "      <td>266.10</td>\n",
       "      <td>83.40</td>\n",
       "      <td>66.85</td>\n",
       "      <td>158.60</td>\n",
       "    </tr>\n",
       "    <tr>\n",
       "      <th>2</th>\n",
       "      <td>562.35</td>\n",
       "      <td>408.30</td>\n",
       "      <td>1552.50</td>\n",
       "      <td>952.80</td>\n",
       "      <td>281.65</td>\n",
       "      <td>1378.80</td>\n",
       "      <td>6958.20</td>\n",
       "      <td>1353.10</td>\n",
       "      <td>2455.35</td>\n",
       "      <td>481.75</td>\n",
       "      <td>...</td>\n",
       "      <td>19.9</td>\n",
       "      <td>783.65</td>\n",
       "      <td>1530.30</td>\n",
       "      <td>217.00</td>\n",
       "      <td>349.85</td>\n",
       "      <td>1188.00</td>\n",
       "      <td>264.85</td>\n",
       "      <td>82.25</td>\n",
       "      <td>66.95</td>\n",
       "      <td>158.25</td>\n",
       "    </tr>\n",
       "    <tr>\n",
       "      <th>3</th>\n",
       "      <td>560.10</td>\n",
       "      <td>404.75</td>\n",
       "      <td>1537.05</td>\n",
       "      <td>961.75</td>\n",
       "      <td>277.90</td>\n",
       "      <td>1352.85</td>\n",
       "      <td>6831.05</td>\n",
       "      <td>1327.35</td>\n",
       "      <td>2536.20</td>\n",
       "      <td>471.65</td>\n",
       "      <td>...</td>\n",
       "      <td>20.0</td>\n",
       "      <td>746.95</td>\n",
       "      <td>1515.05</td>\n",
       "      <td>209.65</td>\n",
       "      <td>334.10</td>\n",
       "      <td>1156.90</td>\n",
       "      <td>260.35</td>\n",
       "      <td>78.95</td>\n",
       "      <td>66.40</td>\n",
       "      <td>157.40</td>\n",
       "    </tr>\n",
       "    <tr>\n",
       "      <th>4</th>\n",
       "      <td>564.95</td>\n",
       "      <td>401.05</td>\n",
       "      <td>1520.60</td>\n",
       "      <td>957.95</td>\n",
       "      <td>286.20</td>\n",
       "      <td>1333.40</td>\n",
       "      <td>6790.55</td>\n",
       "      <td>1318.85</td>\n",
       "      <td>2507.15</td>\n",
       "      <td>471.15</td>\n",
       "      <td>...</td>\n",
       "      <td>20.6</td>\n",
       "      <td>723.10</td>\n",
       "      <td>1513.55</td>\n",
       "      <td>206.25</td>\n",
       "      <td>336.20</td>\n",
       "      <td>1161.65</td>\n",
       "      <td>254.05</td>\n",
       "      <td>77.15</td>\n",
       "      <td>67.70</td>\n",
       "      <td>151.90</td>\n",
       "    </tr>\n",
       "  </tbody>\n",
       "</table>\n",
       "<p>5 rows × 30 columns</p>\n",
       "</div>"
      ],
      "text/plain": [
       "    CIPLA    GAIL     HDFC    INFY     ITC      M&M   MARUTI  RELIANCE  \\\n",
       "0  569.00  414.00  1559.50  951.55  277.95  1375.65  6823.90   1344.10   \n",
       "1  565.60  411.40  1566.55  955.00  283.45  1366.35  6953.95   1356.30   \n",
       "2  562.35  408.30  1552.50  952.80  281.65  1378.80  6958.20   1353.10   \n",
       "3  560.10  404.75  1537.05  961.75  277.90  1352.85  6831.05   1327.35   \n",
       "4  564.95  401.05  1520.60  957.95  286.20  1333.40  6790.55   1318.85   \n",
       "\n",
       "       TCS   TITAN  ...  SUZLON  RAYMOND      PVR  ASHOKA  BAJAJELEC  VENKEYS  \\\n",
       "0  2365.10  483.65  ...    19.6   772.80  1524.95  216.05     341.15  1169.70   \n",
       "1  2429.15  488.30  ...    19.7   785.00  1539.00  214.90     347.00  1177.00   \n",
       "2  2455.35  481.75  ...    19.9   783.65  1530.30  217.00     349.85  1188.00   \n",
       "3  2536.20  471.65  ...    20.0   746.95  1515.05  209.65     334.10  1156.90   \n",
       "4  2507.15  471.15  ...    20.6   723.10  1513.55  206.25     336.20  1161.65   \n",
       "\n",
       "   CENTURYPLY  BOMDYEING  LEMONTREE  SONATSOFTW  \n",
       "0      266.65      82.20      71.65      162.65  \n",
       "1      266.10      83.40      66.85      158.60  \n",
       "2      264.85      82.25      66.95      158.25  \n",
       "3      260.35      78.95      66.40      157.40  \n",
       "4      254.05      77.15      67.70      151.90  \n",
       "\n",
       "[5 rows x 30 columns]"
      ]
     },
     "execution_count": 3,
     "metadata": {},
     "output_type": "execute_result"
    }
   ],
   "source": [
    "df = df.dropna()\n",
    "df.head() #Almost 1 year data 280 days"
   ]
  },
  {
   "cell_type": "code",
   "execution_count": 4,
   "metadata": {
    "scrolled": true
   },
   "outputs": [],
   "source": [
    "df = df.pct_change() #calculating the percentage changes"
   ]
  },
  {
   "cell_type": "code",
   "execution_count": 103,
   "metadata": {},
   "outputs": [
    {
     "data": {
      "text/html": [
       "<div>\n",
       "<style scoped>\n",
       "    .dataframe tbody tr th:only-of-type {\n",
       "        vertical-align: middle;\n",
       "    }\n",
       "\n",
       "    .dataframe tbody tr th {\n",
       "        vertical-align: top;\n",
       "    }\n",
       "\n",
       "    .dataframe thead th {\n",
       "        text-align: right;\n",
       "    }\n",
       "</style>\n",
       "<table border=\"1\" class=\"dataframe\">\n",
       "  <thead>\n",
       "    <tr style=\"text-align: right;\">\n",
       "      <th></th>\n",
       "      <th>CIPLA</th>\n",
       "      <th>GAIL</th>\n",
       "      <th>HDFC</th>\n",
       "      <th>INFY</th>\n",
       "      <th>ITC</th>\n",
       "      <th>M&amp;M</th>\n",
       "      <th>MARUTI</th>\n",
       "      <th>RELIANCE</th>\n",
       "      <th>TCS</th>\n",
       "      <th>TITAN</th>\n",
       "      <th>...</th>\n",
       "      <th>SUZLON</th>\n",
       "      <th>RAYMOND</th>\n",
       "      <th>PVR</th>\n",
       "      <th>ASHOKA</th>\n",
       "      <th>BAJAJELEC</th>\n",
       "      <th>VENKEYS</th>\n",
       "      <th>CENTURYPLY</th>\n",
       "      <th>BOMDYEING</th>\n",
       "      <th>LEMONTREE</th>\n",
       "      <th>SONATSOFTW</th>\n",
       "    </tr>\n",
       "  </thead>\n",
       "  <tbody>\n",
       "    <tr>\n",
       "      <th>1</th>\n",
       "      <td>-0.005975</td>\n",
       "      <td>-0.006280</td>\n",
       "      <td>0.004521</td>\n",
       "      <td>0.003626</td>\n",
       "      <td>0.019788</td>\n",
       "      <td>-0.006760</td>\n",
       "      <td>0.019058</td>\n",
       "      <td>0.009077</td>\n",
       "      <td>0.027081</td>\n",
       "      <td>0.009614</td>\n",
       "      <td>...</td>\n",
       "      <td>0.005102</td>\n",
       "      <td>0.015787</td>\n",
       "      <td>0.009213</td>\n",
       "      <td>-0.005323</td>\n",
       "      <td>0.017148</td>\n",
       "      <td>0.006241</td>\n",
       "      <td>-0.002063</td>\n",
       "      <td>0.014599</td>\n",
       "      <td>-0.066992</td>\n",
       "      <td>-0.024900</td>\n",
       "    </tr>\n",
       "    <tr>\n",
       "      <th>2</th>\n",
       "      <td>-0.005746</td>\n",
       "      <td>-0.007535</td>\n",
       "      <td>-0.008969</td>\n",
       "      <td>-0.002304</td>\n",
       "      <td>-0.006350</td>\n",
       "      <td>0.009112</td>\n",
       "      <td>0.000611</td>\n",
       "      <td>-0.002359</td>\n",
       "      <td>0.010786</td>\n",
       "      <td>-0.013414</td>\n",
       "      <td>...</td>\n",
       "      <td>0.010152</td>\n",
       "      <td>-0.001720</td>\n",
       "      <td>-0.005653</td>\n",
       "      <td>0.009772</td>\n",
       "      <td>0.008213</td>\n",
       "      <td>0.009346</td>\n",
       "      <td>-0.004697</td>\n",
       "      <td>-0.013789</td>\n",
       "      <td>0.001496</td>\n",
       "      <td>-0.002207</td>\n",
       "    </tr>\n",
       "    <tr>\n",
       "      <th>3</th>\n",
       "      <td>-0.004001</td>\n",
       "      <td>-0.008695</td>\n",
       "      <td>-0.009952</td>\n",
       "      <td>0.009393</td>\n",
       "      <td>-0.013314</td>\n",
       "      <td>-0.018821</td>\n",
       "      <td>-0.018273</td>\n",
       "      <td>-0.019030</td>\n",
       "      <td>0.032928</td>\n",
       "      <td>-0.020965</td>\n",
       "      <td>...</td>\n",
       "      <td>0.005025</td>\n",
       "      <td>-0.046832</td>\n",
       "      <td>-0.009965</td>\n",
       "      <td>-0.033871</td>\n",
       "      <td>-0.045019</td>\n",
       "      <td>-0.026178</td>\n",
       "      <td>-0.016991</td>\n",
       "      <td>-0.040122</td>\n",
       "      <td>-0.008215</td>\n",
       "      <td>-0.005371</td>\n",
       "    </tr>\n",
       "    <tr>\n",
       "      <th>4</th>\n",
       "      <td>0.008659</td>\n",
       "      <td>-0.009141</td>\n",
       "      <td>-0.010702</td>\n",
       "      <td>-0.003951</td>\n",
       "      <td>0.029867</td>\n",
       "      <td>-0.014377</td>\n",
       "      <td>-0.005929</td>\n",
       "      <td>-0.006404</td>\n",
       "      <td>-0.011454</td>\n",
       "      <td>-0.001060</td>\n",
       "      <td>...</td>\n",
       "      <td>0.030000</td>\n",
       "      <td>-0.031930</td>\n",
       "      <td>-0.000990</td>\n",
       "      <td>-0.016218</td>\n",
       "      <td>0.006286</td>\n",
       "      <td>0.004106</td>\n",
       "      <td>-0.024198</td>\n",
       "      <td>-0.022799</td>\n",
       "      <td>0.019578</td>\n",
       "      <td>-0.034943</td>\n",
       "    </tr>\n",
       "    <tr>\n",
       "      <th>5</th>\n",
       "      <td>-0.003275</td>\n",
       "      <td>-0.027054</td>\n",
       "      <td>-0.000493</td>\n",
       "      <td>0.003654</td>\n",
       "      <td>0.060797</td>\n",
       "      <td>-0.020361</td>\n",
       "      <td>-0.013084</td>\n",
       "      <td>0.004019</td>\n",
       "      <td>0.009652</td>\n",
       "      <td>0.021755</td>\n",
       "      <td>...</td>\n",
       "      <td>-0.009709</td>\n",
       "      <td>-0.009888</td>\n",
       "      <td>-0.021506</td>\n",
       "      <td>-0.022545</td>\n",
       "      <td>-0.068263</td>\n",
       "      <td>0.049972</td>\n",
       "      <td>0.005708</td>\n",
       "      <td>-0.040830</td>\n",
       "      <td>-0.006647</td>\n",
       "      <td>-0.009546</td>\n",
       "    </tr>\n",
       "  </tbody>\n",
       "</table>\n",
       "<p>5 rows × 30 columns</p>\n",
       "</div>"
      ],
      "text/plain": [
       "      CIPLA      GAIL      HDFC      INFY       ITC       M&M    MARUTI  \\\n",
       "1 -0.005975 -0.006280  0.004521  0.003626  0.019788 -0.006760  0.019058   \n",
       "2 -0.005746 -0.007535 -0.008969 -0.002304 -0.006350  0.009112  0.000611   \n",
       "3 -0.004001 -0.008695 -0.009952  0.009393 -0.013314 -0.018821 -0.018273   \n",
       "4  0.008659 -0.009141 -0.010702 -0.003951  0.029867 -0.014377 -0.005929   \n",
       "5 -0.003275 -0.027054 -0.000493  0.003654  0.060797 -0.020361 -0.013084   \n",
       "\n",
       "   RELIANCE       TCS     TITAN  ...    SUZLON   RAYMOND       PVR    ASHOKA  \\\n",
       "1  0.009077  0.027081  0.009614  ...  0.005102  0.015787  0.009213 -0.005323   \n",
       "2 -0.002359  0.010786 -0.013414  ...  0.010152 -0.001720 -0.005653  0.009772   \n",
       "3 -0.019030  0.032928 -0.020965  ...  0.005025 -0.046832 -0.009965 -0.033871   \n",
       "4 -0.006404 -0.011454 -0.001060  ...  0.030000 -0.031930 -0.000990 -0.016218   \n",
       "5  0.004019  0.009652  0.021755  ... -0.009709 -0.009888 -0.021506 -0.022545   \n",
       "\n",
       "   BAJAJELEC   VENKEYS  CENTURYPLY  BOMDYEING  LEMONTREE  SONATSOFTW  \n",
       "1   0.017148  0.006241   -0.002063   0.014599  -0.066992   -0.024900  \n",
       "2   0.008213  0.009346   -0.004697  -0.013789   0.001496   -0.002207  \n",
       "3  -0.045019 -0.026178   -0.016991  -0.040122  -0.008215   -0.005371  \n",
       "4   0.006286  0.004106   -0.024198  -0.022799   0.019578   -0.034943  \n",
       "5  -0.068263  0.049972    0.005708  -0.040830  -0.006647   -0.009546  \n",
       "\n",
       "[5 rows x 30 columns]"
      ]
     },
     "execution_count": 103,
     "metadata": {},
     "output_type": "execute_result"
    }
   ],
   "source": [
    "df = df.dropna()\n",
    "df.head()"
   ]
  },
  {
   "cell_type": "markdown",
   "metadata": {},
   "source": [
    "### Standard deviation is called volatility"
   ]
  },
  {
   "cell_type": "code",
   "execution_count": 6,
   "metadata": {},
   "outputs": [],
   "source": [
    "#calculating the mean and standard deviation\n",
    "mean = df.mean()\n",
    "std = df.std()"
   ]
  },
  {
   "cell_type": "code",
   "execution_count": 7,
   "metadata": {},
   "outputs": [],
   "source": [
    "#calculating the annual mean and standard deviation\n",
    "annual_mean = mean * 252\n",
    "annual_std  = std * math.sqrt(252)"
   ]
  },
  {
   "cell_type": "code",
   "execution_count": 8,
   "metadata": {},
   "outputs": [
    {
     "data": {
      "text/html": [
       "<div>\n",
       "<style scoped>\n",
       "    .dataframe tbody tr th:only-of-type {\n",
       "        vertical-align: middle;\n",
       "    }\n",
       "\n",
       "    .dataframe tbody tr th {\n",
       "        vertical-align: top;\n",
       "    }\n",
       "\n",
       "    .dataframe thead th {\n",
       "        text-align: right;\n",
       "    }\n",
       "</style>\n",
       "<table border=\"1\" class=\"dataframe\">\n",
       "  <thead>\n",
       "    <tr style=\"text-align: right;\">\n",
       "      <th></th>\n",
       "      <th>mean</th>\n",
       "      <th>std</th>\n",
       "      <th>annual_mean</th>\n",
       "      <th>annual_std</th>\n",
       "    </tr>\n",
       "  </thead>\n",
       "  <tbody>\n",
       "    <tr>\n",
       "      <th>CIPLA</th>\n",
       "      <td>0.000123</td>\n",
       "      <td>0.016525</td>\n",
       "      <td>0.030990</td>\n",
       "      <td>0.262323</td>\n",
       "    </tr>\n",
       "    <tr>\n",
       "      <th>GAIL</th>\n",
       "      <td>-0.000415</td>\n",
       "      <td>0.022845</td>\n",
       "      <td>-0.104570</td>\n",
       "      <td>0.362653</td>\n",
       "    </tr>\n",
       "    <tr>\n",
       "      <th>HDFC</th>\n",
       "      <td>0.000704</td>\n",
       "      <td>0.012146</td>\n",
       "      <td>0.177309</td>\n",
       "      <td>0.192819</td>\n",
       "    </tr>\n",
       "    <tr>\n",
       "      <th>INFY</th>\n",
       "      <td>0.001143</td>\n",
       "      <td>0.014315</td>\n",
       "      <td>0.288003</td>\n",
       "      <td>0.227245</td>\n",
       "    </tr>\n",
       "    <tr>\n",
       "      <th>ITC</th>\n",
       "      <td>0.000011</td>\n",
       "      <td>0.015076</td>\n",
       "      <td>0.002702</td>\n",
       "      <td>0.239331</td>\n",
       "    </tr>\n",
       "    <tr>\n",
       "      <th>M&amp;M</th>\n",
       "      <td>-0.000631</td>\n",
       "      <td>0.034250</td>\n",
       "      <td>-0.159086</td>\n",
       "      <td>0.543694</td>\n",
       "    </tr>\n",
       "    <tr>\n",
       "      <th>MARUTI</th>\n",
       "      <td>0.001099</td>\n",
       "      <td>0.011224</td>\n",
       "      <td>0.276915</td>\n",
       "      <td>0.178178</td>\n",
       "    </tr>\n",
       "    <tr>\n",
       "      <th>RELIANCE</th>\n",
       "      <td>-0.000289</td>\n",
       "      <td>0.033597</td>\n",
       "      <td>-0.072942</td>\n",
       "      <td>0.533332</td>\n",
       "    </tr>\n",
       "    <tr>\n",
       "      <th>TCS</th>\n",
       "      <td>-0.000218</td>\n",
       "      <td>0.033984</td>\n",
       "      <td>-0.054931</td>\n",
       "      <td>0.539474</td>\n",
       "    </tr>\n",
       "    <tr>\n",
       "      <th>TITAN</th>\n",
       "      <td>0.002575</td>\n",
       "      <td>0.022744</td>\n",
       "      <td>0.648852</td>\n",
       "      <td>0.361050</td>\n",
       "    </tr>\n",
       "    <tr>\n",
       "      <th>DHFL</th>\n",
       "      <td>0.001609</td>\n",
       "      <td>0.022369</td>\n",
       "      <td>0.405594</td>\n",
       "      <td>0.355091</td>\n",
       "    </tr>\n",
       "    <tr>\n",
       "      <th>IDBI</th>\n",
       "      <td>-0.000276</td>\n",
       "      <td>0.030774</td>\n",
       "      <td>-0.069656</td>\n",
       "      <td>0.488528</td>\n",
       "    </tr>\n",
       "    <tr>\n",
       "      <th>PNB</th>\n",
       "      <td>-0.001511</td>\n",
       "      <td>0.039865</td>\n",
       "      <td>-0.380889</td>\n",
       "      <td>0.632830</td>\n",
       "    </tr>\n",
       "    <tr>\n",
       "      <th>VOLTAS</th>\n",
       "      <td>0.000983</td>\n",
       "      <td>0.020045</td>\n",
       "      <td>0.247646</td>\n",
       "      <td>0.318207</td>\n",
       "    </tr>\n",
       "    <tr>\n",
       "      <th>SUNTV</th>\n",
       "      <td>0.000348</td>\n",
       "      <td>0.022274</td>\n",
       "      <td>0.087733</td>\n",
       "      <td>0.353594</td>\n",
       "    </tr>\n",
       "    <tr>\n",
       "      <th>TATA POWER</th>\n",
       "      <td>-0.000145</td>\n",
       "      <td>0.015556</td>\n",
       "      <td>-0.036551</td>\n",
       "      <td>0.246946</td>\n",
       "    </tr>\n",
       "    <tr>\n",
       "      <th>NBCC</th>\n",
       "      <td>-0.002077</td>\n",
       "      <td>0.035339</td>\n",
       "      <td>-0.523477</td>\n",
       "      <td>0.560992</td>\n",
       "    </tr>\n",
       "    <tr>\n",
       "      <th>MRPL</th>\n",
       "      <td>-0.001047</td>\n",
       "      <td>0.020547</td>\n",
       "      <td>-0.263968</td>\n",
       "      <td>0.326179</td>\n",
       "    </tr>\n",
       "    <tr>\n",
       "      <th>IGL</th>\n",
       "      <td>-0.001624</td>\n",
       "      <td>0.052105</td>\n",
       "      <td>-0.409208</td>\n",
       "      <td>0.827140</td>\n",
       "    </tr>\n",
       "    <tr>\n",
       "      <th>RELINFRA</th>\n",
       "      <td>-0.000877</td>\n",
       "      <td>0.024735</td>\n",
       "      <td>-0.220921</td>\n",
       "      <td>0.392659</td>\n",
       "    </tr>\n",
       "    <tr>\n",
       "      <th>SUZLON</th>\n",
       "      <td>-0.002903</td>\n",
       "      <td>0.024939</td>\n",
       "      <td>-0.731464</td>\n",
       "      <td>0.395900</td>\n",
       "    </tr>\n",
       "    <tr>\n",
       "      <th>RAYMOND</th>\n",
       "      <td>0.001176</td>\n",
       "      <td>0.022717</td>\n",
       "      <td>0.296302</td>\n",
       "      <td>0.360621</td>\n",
       "    </tr>\n",
       "    <tr>\n",
       "      <th>PVR</th>\n",
       "      <td>-0.000080</td>\n",
       "      <td>0.018369</td>\n",
       "      <td>-0.020053</td>\n",
       "      <td>0.291604</td>\n",
       "    </tr>\n",
       "    <tr>\n",
       "      <th>ASHOKA</th>\n",
       "      <td>0.000595</td>\n",
       "      <td>0.022265</td>\n",
       "      <td>0.149940</td>\n",
       "      <td>0.353439</td>\n",
       "    </tr>\n",
       "    <tr>\n",
       "      <th>BAJAJELEC</th>\n",
       "      <td>0.002059</td>\n",
       "      <td>0.027275</td>\n",
       "      <td>0.518802</td>\n",
       "      <td>0.432981</td>\n",
       "    </tr>\n",
       "    <tr>\n",
       "      <th>VENKEYS</th>\n",
       "      <td>0.003588</td>\n",
       "      <td>0.040518</td>\n",
       "      <td>0.904066</td>\n",
       "      <td>0.643204</td>\n",
       "    </tr>\n",
       "    <tr>\n",
       "      <th>CENTURYPLY</th>\n",
       "      <td>0.000209</td>\n",
       "      <td>0.022482</td>\n",
       "      <td>0.052698</td>\n",
       "      <td>0.356888</td>\n",
       "    </tr>\n",
       "    <tr>\n",
       "      <th>BOMDYEING</th>\n",
       "      <td>0.004469</td>\n",
       "      <td>0.039408</td>\n",
       "      <td>1.126112</td>\n",
       "      <td>0.625577</td>\n",
       "    </tr>\n",
       "    <tr>\n",
       "      <th>LEMONTREE</th>\n",
       "      <td>0.000225</td>\n",
       "      <td>0.024713</td>\n",
       "      <td>0.056795</td>\n",
       "      <td>0.392313</td>\n",
       "    </tr>\n",
       "    <tr>\n",
       "      <th>SONATSOFTW</th>\n",
       "      <td>0.003033</td>\n",
       "      <td>0.025992</td>\n",
       "      <td>0.764333</td>\n",
       "      <td>0.412617</td>\n",
       "    </tr>\n",
       "  </tbody>\n",
       "</table>\n",
       "</div>"
      ],
      "text/plain": [
       "                mean       std  annual_mean  annual_std\n",
       "CIPLA       0.000123  0.016525     0.030990    0.262323\n",
       "GAIL       -0.000415  0.022845    -0.104570    0.362653\n",
       "HDFC        0.000704  0.012146     0.177309    0.192819\n",
       "INFY        0.001143  0.014315     0.288003    0.227245\n",
       "ITC         0.000011  0.015076     0.002702    0.239331\n",
       "M&M        -0.000631  0.034250    -0.159086    0.543694\n",
       "MARUTI      0.001099  0.011224     0.276915    0.178178\n",
       "RELIANCE   -0.000289  0.033597    -0.072942    0.533332\n",
       "TCS        -0.000218  0.033984    -0.054931    0.539474\n",
       "TITAN       0.002575  0.022744     0.648852    0.361050\n",
       "DHFL        0.001609  0.022369     0.405594    0.355091\n",
       "IDBI       -0.000276  0.030774    -0.069656    0.488528\n",
       "PNB        -0.001511  0.039865    -0.380889    0.632830\n",
       "VOLTAS      0.000983  0.020045     0.247646    0.318207\n",
       "SUNTV       0.000348  0.022274     0.087733    0.353594\n",
       "TATA POWER -0.000145  0.015556    -0.036551    0.246946\n",
       "NBCC       -0.002077  0.035339    -0.523477    0.560992\n",
       "MRPL       -0.001047  0.020547    -0.263968    0.326179\n",
       "IGL        -0.001624  0.052105    -0.409208    0.827140\n",
       "RELINFRA   -0.000877  0.024735    -0.220921    0.392659\n",
       "SUZLON     -0.002903  0.024939    -0.731464    0.395900\n",
       "RAYMOND     0.001176  0.022717     0.296302    0.360621\n",
       "PVR        -0.000080  0.018369    -0.020053    0.291604\n",
       "ASHOKA      0.000595  0.022265     0.149940    0.353439\n",
       "BAJAJELEC   0.002059  0.027275     0.518802    0.432981\n",
       "VENKEYS     0.003588  0.040518     0.904066    0.643204\n",
       "CENTURYPLY  0.000209  0.022482     0.052698    0.356888\n",
       "BOMDYEING   0.004469  0.039408     1.126112    0.625577\n",
       "LEMONTREE   0.000225  0.024713     0.056795    0.392313\n",
       "SONATSOFTW  0.003033  0.025992     0.764333    0.412617"
      ]
     },
     "execution_count": 8,
     "metadata": {},
     "output_type": "execute_result"
    }
   ],
   "source": [
    "data=pd.DataFrame({'mean':mean,'std':std,'annual_mean':annual_mean,'annual_std':annual_std})\n",
    "data"
   ]
  },
  {
   "cell_type": "code",
   "execution_count": 14,
   "metadata": {},
   "outputs": [
    {
     "data": {
      "text/html": [
       "<div>\n",
       "<style scoped>\n",
       "    .dataframe tbody tr th:only-of-type {\n",
       "        vertical-align: middle;\n",
       "    }\n",
       "\n",
       "    .dataframe tbody tr th {\n",
       "        vertical-align: top;\n",
       "    }\n",
       "\n",
       "    .dataframe thead th {\n",
       "        text-align: right;\n",
       "    }\n",
       "</style>\n",
       "<table border=\"1\" class=\"dataframe\">\n",
       "  <thead>\n",
       "    <tr style=\"text-align: right;\">\n",
       "      <th></th>\n",
       "      <th>annual_mean</th>\n",
       "      <th>annual_std</th>\n",
       "    </tr>\n",
       "  </thead>\n",
       "  <tbody>\n",
       "    <tr>\n",
       "      <th>CIPLA</th>\n",
       "      <td>0.030990</td>\n",
       "      <td>0.262323</td>\n",
       "    </tr>\n",
       "    <tr>\n",
       "      <th>GAIL</th>\n",
       "      <td>-0.104570</td>\n",
       "      <td>0.362653</td>\n",
       "    </tr>\n",
       "    <tr>\n",
       "      <th>HDFC</th>\n",
       "      <td>0.177309</td>\n",
       "      <td>0.192819</td>\n",
       "    </tr>\n",
       "    <tr>\n",
       "      <th>INFY</th>\n",
       "      <td>0.288003</td>\n",
       "      <td>0.227245</td>\n",
       "    </tr>\n",
       "    <tr>\n",
       "      <th>ITC</th>\n",
       "      <td>0.002702</td>\n",
       "      <td>0.239331</td>\n",
       "    </tr>\n",
       "  </tbody>\n",
       "</table>\n",
       "</div>"
      ],
      "text/plain": [
       "       annual_mean  annual_std\n",
       "CIPLA     0.030990    0.262323\n",
       "GAIL     -0.104570    0.362653\n",
       "HDFC      0.177309    0.192819\n",
       "INFY      0.288003    0.227245\n",
       "ITC       0.002702    0.239331"
      ]
     },
     "execution_count": 14,
     "metadata": {},
     "output_type": "execute_result"
    }
   ],
   "source": [
    "#only the required data which is needs=ed to be given to KMeans is taken in seperate dataframe\n",
    "points = data[['annual_mean','annual_std']]\n",
    "points.head()"
   ]
  },
  {
   "cell_type": "code",
   "execution_count": 111,
   "metadata": {},
   "outputs": [
    {
     "data": {
      "text/plain": [
       "<matplotlib.collections.PathCollection at 0x1e5d70130b8>"
      ]
     },
     "execution_count": 111,
     "metadata": {},
     "output_type": "execute_result"
    },
    {
     "data": {
      "image/png": "[encoded data removed]",
      "text/plain": [
       "<Figure size 1080x504 with 1 Axes>"
      ]
     },
     "metadata": {
      "needs_background": "light"
     },
     "output_type": "display_data"
    }
   ],
   "source": [
    "plt.scatter(x=data['annual_mean'],y=data['annual_std'],color='r',marker='x')"
   ]
  },
  {
   "cell_type": "code",
   "execution_count": 12,
   "metadata": {},
   "outputs": [],
   "source": [
    "# importing the KMeans module from scikit sklearn\n",
    "from sklearn.cluster import KMeans"
   ]
  },
  {
   "cell_type": "markdown",
   "metadata": {},
   "source": [
    "### Before we get to allpy k-mean we need to find the number of clusters required\n",
    "#### The method used for this is elbow method \n",
    "#### Practically this method doesnt give us the perfect idea but inorder to get an idea we do it"
   ]
  },
  {
   "cell_type": "code",
   "execution_count": 121,
   "metadata": {},
   "outputs": [],
   "source": [
    "#The method to find the least number of cluster is by using elbow method where we find the least sum of sqaures by implementing\n",
    "#each kmean for different number of clusters and plotting the data to obtain curve to find the number of clusters \n",
    "#the curve plotted will be an elbow shaped the point of elbow is our required number of clusters\n",
    "sum_of_squared_distances = []\n",
    "k = range(1,15) #assuming the maximum number of clusters formed to the given data is 15\n",
    "for i in k:\n",
    "    kmeans = KMeans(i)\n",
    "    kmeans.fit(points)\n",
    "    sum_of_squared_distances.append(kmeans.inertia_)"
   ]
  },
  {
   "cell_type": "code",
   "execution_count": 122,
   "metadata": {},
   "outputs": [
    {
     "data": {
      "text/plain": [
       "[5.560497710520195,\n",
       " 2.545108427221349,\n",
       " 1.2844496319076737,\n",
       " 0.8132639128905989,\n",
       " 0.60462776743504,\n",
       " 0.4325923422391573,\n",
       " 0.3150615826154803,\n",
       " 0.2432267029541567,\n",
       " 0.20665871287657167,\n",
       " 0.16571049463975665,\n",
       " 0.12579406281073036,\n",
       " 0.10098647415566064,\n",
       " 0.07674212429615443,\n",
       " 0.06399617590130305]"
      ]
     },
     "execution_count": 122,
     "metadata": {},
     "output_type": "execute_result"
    }
   ],
   "source": [
    "sum_of_squared_distances #these are the cost functions wrt to the number of clusters"
   ]
  },
  {
   "cell_type": "markdown",
   "metadata": {},
   "source": [
    "### Plotting the graph elbow method to find the clusters"
   ]
  },
  {
   "cell_type": "code",
   "execution_count": 136,
   "metadata": {},
   "outputs": [
    {
     "data": {
      "text/plain": [
       "[<matplotlib.lines.Line2D at 0x1e5d9f32b00>]"
      ]
     },
     "execution_count": 136,
     "metadata": {},
     "output_type": "execute_result"
    },
    {
     "data": {
      "image/png": "[encoded data removed]",
      "text/plain": [
       "<Figure size 1080x504 with 1 Axes>"
      ]
     },
     "metadata": {
      "needs_background": "light"
     },
     "output_type": "display_data"
    }
   ],
   "source": [
    "plt.plot(k,sum_of_squared_distances,'x-')"
   ]
  },
  {
   "cell_type": "markdown",
   "metadata": {},
   "source": [
    "# Since there is no clear elbow we can go with values of 3,4,5 cluster for particular data\n",
    "### Since this is the case of using elbow method to all the dataset where the cluster selection remains ambigious this is not much prefered but used just to get an idea"
   ]
  },
  {
   "cell_type": "markdown",
   "metadata": {},
   "source": [
    "# Selecting the number of clusters as 4"
   ]
  },
  {
   "cell_type": "code",
   "execution_count": 133,
   "metadata": {},
   "outputs": [],
   "source": [
    "# create a KMeans object\n",
    "kmeans = KMeans(4) #mentioning the number of clusters"
   ]
  },
  {
   "cell_type": "code",
   "execution_count": 25,
   "metadata": {},
   "outputs": [
    {
     "data": {
      "text/plain": [
       "KMeans(algorithm='auto', copy_x=True, init='k-means++', max_iter=300,\n",
       "       n_clusters=4, n_init=10, n_jobs=None, precompute_distances='auto',\n",
       "       random_state=None, tol=0.0001, verbose=0)"
      ]
     },
     "execution_count": 25,
     "metadata": {},
     "output_type": "execute_result"
    }
   ],
   "source": [
    "#fitting the kmeans object to dataset\n",
    "kmeans.fit(points)"
   ]
  },
  {
   "cell_type": "code",
   "execution_count": 120,
   "metadata": {},
   "outputs": [
    {
     "data": {
      "text/plain": [
       "0.8132639128905989"
      ]
     },
     "execution_count": 120,
     "metadata": {},
     "output_type": "execute_result"
    }
   ],
   "source": [
    "kmeans.inertia_ #the inertia function give the sum of square distances i.e the cost function wrt to the particular clusters"
   ]
  },
  {
   "cell_type": "code",
   "execution_count": 26,
   "metadata": {},
   "outputs": [],
   "source": [
    "#getting the clusters of KMean\n",
    "clusters = kmeans.cluster_centers_"
   ]
  },
  {
   "cell_type": "code",
   "execution_count": 27,
   "metadata": {},
   "outputs": [
    {
     "name": "stdout",
     "output_type": "stream",
     "text": [
      "[[ 0.79243322  0.49508601]\n",
      " [-0.05512574  0.38067983]\n",
      " [ 0.26310132  0.28365703]\n",
      " [-0.51125948  0.60421549]]\n"
     ]
    }
   ],
   "source": [
    "#printing the cluster centroids\n",
    "print(clusters)"
   ]
  },
  {
   "cell_type": "code",
   "execution_count": 112,
   "metadata": {},
   "outputs": [
    {
     "data": {
      "text/plain": [
       "<matplotlib.collections.PathCollection at 0x1e5d7225da0>"
      ]
     },
     "execution_count": 112,
     "metadata": {},
     "output_type": "execute_result"
    },
    {
     "data": {
      "image/png": "[encoded data removed]",
      "text/plain": [
       "<Figure size 1080x504 with 1 Axes>"
      ]
     },
     "metadata": {
      "needs_background": "light"
     },
     "output_type": "display_data"
    }
   ],
   "source": [
    "#plotting the centroids of the cluster\n",
    "plt.scatter(x=clusters[0,0],y=clusters[0,1],s=20,color='yellow')\n",
    "plt.scatter(x=clusters[1,0],y=clusters[1,1],s=20,color='yellow')\n",
    "plt.scatter(x=clusters[2,0],y=clusters[2,1],s=20,color='yellow')\n",
    "plt.scatter(x=clusters[3,0],y=clusters[3,1],s=20,color='yellow')"
   ]
  },
  {
   "cell_type": "code",
   "execution_count": 28,
   "metadata": {},
   "outputs": [],
   "source": [
    "# inorder to predict the data we need to pass the points to the predicted algorithm\n",
    "y = kmeans.fit_predict(points)"
   ]
  },
  {
   "cell_type": "code",
   "execution_count": 29,
   "metadata": {},
   "outputs": [
    {
     "data": {
      "text/plain": [
       "array([2, 2, 0, 0, 2, 2, 0, 2, 2, 3, 0, 2, 1, 0, 2, 2, 1, 2, 1, 2, 1, 0,\n",
       "       2, 0, 0, 3, 2, 3, 2, 3])"
      ]
     },
     "execution_count": 29,
     "metadata": {},
     "output_type": "execute_result"
    }
   ],
   "source": [
    "y #here y is an array which idicates to which centroid set the individual data point has been assigned "
   ]
  },
  {
   "cell_type": "code",
   "execution_count": 141,
   "metadata": {},
   "outputs": [
    {
     "data": {
      "text/plain": [
       "Centroid_of_point\n",
       "0     8\n",
       "1     4\n",
       "2    14\n",
       "3     4\n",
       "dtype: int64"
      ]
     },
     "execution_count": 141,
     "metadata": {},
     "output_type": "execute_result"
    }
   ],
   "source": [
    "result = pd.DataFrame({'Centroid_of_point':y})\n",
    "result.groupby('Centroid_of_point').size() #giving the number of points corresponding to each centroid\n",
    "#0,1,2,3 are centroids"
   ]
  },
  {
   "cell_type": "code",
   "execution_count": 106,
   "metadata": {},
   "outputs": [],
   "source": [
    "l = list(points.index) #creating a list with the index values"
   ]
  },
  {
   "cell_type": "code",
   "execution_count": 117,
   "metadata": {},
   "outputs": [
    {
     "data": {
      "text/plain": [
       "<matplotlib.legend.Legend at 0x1e5d8946cf8>"
      ]
     },
     "execution_count": 117,
     "metadata": {},
     "output_type": "execute_result"
    },
    {
     "data": {
      "image/png": "[encoded data removed]",
      "text/plain": [
       "<Figure size 1080x504 with 1 Axes>"
      ]
     },
     "metadata": {
      "needs_background": "light"
     },
     "output_type": "display_data"
    }
   ],
   "source": [
    "#plotting the data\n",
    "plt.scatter(points.iloc[y == 1,0], points.iloc[y == 1,1], s=55 ,color='green',label='Cluster 1') #s gives the size of the point\n",
    "plt.scatter(points.iloc[y == 2,0], points.iloc[y == 2,1], s=55 ,color='blue',label='Cluster 2')\n",
    "plt.scatter(points.iloc[y == 0,0], points.iloc[y == 0,1], s=55 ,color='cyan',label='Cluster 3')\n",
    "plt.scatter(points.iloc[y == 3,0], points.iloc[y == 3,1], s=55 ,color='red',label='Cluster 4')\n",
    "plt.scatter(x=clusters[0,0],y=clusters[0,1],s=90,color='yellow')\n",
    "plt.scatter(x=clusters[1,0],y=clusters[1,1],s=90,color='yellow')\n",
    "plt.scatter(x=clusters[2,0],y=clusters[2,1],s=90,color='yellow')\n",
    "plt.scatter(x=clusters[3,0],y=clusters[3,1],s=90,color='yellow')\n",
    "for i, txt in enumerate(l): #enumerate function give index values along with the values in the list\n",
    "    plt.annotate(txt, (points.iloc[i,0], points.iloc[i,1])) #plt.annotate function is used to name each point\n",
    "plt.xlabel('Mean') \n",
    "plt.ylabel('Volatility')\n",
    "plt.title('K-Means Cluster')\n",
    "plt.legend(loc = 'upper right')"
   ]
  },
  {
   "cell_type": "code",
   "execution_count": null,
   "metadata": {},
   "outputs": [],
   "source": []
  }
 ],
 "metadata": {
  "kernelspec": {
   "display_name": "Python 3",
   "language": "python",
   "name": "python3"
  },
  "language_info": {
   "codemirror_mode": {
    "name": "ipython",
    "version": 3
   },
   "file_extension": ".py",
   "mimetype": "text/x-python",
   "name": "python",
   "nbconvert_exporter": "python",
   "pygments_lexer": "ipython3",
   "version": "3.7.3"
  }
 },
 "nbformat": 4,
 "nbformat_minor": 2
}
